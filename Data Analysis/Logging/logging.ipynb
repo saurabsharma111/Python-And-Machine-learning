{
 "cells": [
  {
   "cell_type": "code",
   "execution_count": 4,
   "metadata": {},
   "outputs": [],
   "source": [
    "import logging"
   ]
  },
  {
   "cell_type": "code",
   "execution_count": 5,
   "metadata": {},
   "outputs": [
    {
     "name": "stderr",
     "output_type": "stream",
     "text": [
      "DEBUG:root:This is  a debug message\n",
      "INFO:root:This is info message\n",
      "WARNING:root:This is a warning\n",
      "ERROR:root:This is a error message\n",
      "CRITICAL:root:This is a critical message\n"
     ]
    }
   ],
   "source": [
    "# #configure\n",
    "\n",
    "# logging.basicConfig(level=logging.DEBUG)\n",
    "\n",
    "# #log messages\n",
    "# logging.debug(\"This is  a debug message\")\n",
    "# logging.info(\"This is info message\")\n",
    "# logging.warning(\"This is a warning\")\n",
    "# logging.error(\"This is a error message\")\n",
    "# logging.critical(\"This is a critical message\")\n"
   ]
  },
  {
   "cell_type": "code",
   "execution_count": 1,
   "metadata": {},
   "outputs": [],
   "source": [
    "#configure cvustom message\n",
    "#create a log file names app.log\n",
    "import logging\n",
    "\n",
    "logging.basicConfig(\n",
    "    filename= 'app.log',\n",
    "    level=logging.DEBUG,\n",
    "    format='%(asctime)s-%(name)s-%(levelname)s-%(message)s',\n",
    "    datefmt='%d/%m/%Y %I:%M:%S %p'\n",
    ")\n",
    "logging.debug(\"This is  a debug message\")\n",
    "logging.info(\"This is info message\")\n",
    "logging.warning(\"This is a warning\")\n",
    "logging.error(\"This is a error message\")\n",
    "logging.critical(\"This is a critical message\")"
   ]
  },
  {
   "cell_type": "code",
   "execution_count": null,
   "metadata": {},
   "outputs": [],
   "source": []
  }
 ],
 "metadata": {
  "kernelspec": {
   "display_name": "venv",
   "language": "python",
   "name": "python3"
  },
  "language_info": {
   "codemirror_mode": {
    "name": "ipython",
    "version": 3
   },
   "file_extension": ".py",
   "mimetype": "text/x-python",
   "name": "python",
   "nbconvert_exporter": "python",
   "pygments_lexer": "ipython3",
   "version": "3.12.0"
  }
 },
 "nbformat": 4,
 "nbformat_minor": 2
}
