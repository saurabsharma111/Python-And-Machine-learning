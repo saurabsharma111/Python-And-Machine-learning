{
 "cells": [
  {
   "cell_type": "code",
   "execution_count": 2,
   "metadata": {},
   "outputs": [
    {
     "name": "stdout",
     "output_type": "stream",
     "text": [
      "Hello World\n"
     ]
    }
   ],
   "source": [
    "print(\"Hello World\")"
   ]
  },
  {
   "cell_type": "code",
   "execution_count": 1,
   "metadata": {},
   "outputs": [
    {
     "name": "stdout",
     "output_type": "stream",
     "text": [
      "You are an adult\n"
     ]
    }
   ],
   "source": [
    "age=18\n",
    "# age>=18\n",
    "if(age>=18):\n",
    "    print(\"You are an adult\")\n",
    "else:\n",
    "    print(\"You are a minor\")"
   ]
  },
  {
   "cell_type": "code",
   "execution_count": 8,
   "metadata": {},
   "outputs": [
    {
     "name": "stdout",
     "output_type": "stream",
     "text": [
      "{1, 4, 5, 6}\n"
     ]
    }
   ],
   "source": [
    "se = {1,2,2,2,2,4,5,6,6}\n",
    "se.remove(2)\n",
    "print(se)"
   ]
  },
  {
   "cell_type": "code",
   "execution_count": 12,
   "metadata": {},
   "outputs": [
    {
     "name": "stdout",
     "output_type": "stream",
     "text": [
      "{'c', 'i', 'n', 'e', 's', 'r', 't', 'h', ' ', 'k', 'u', 'a'}\n",
      "12\n"
     ]
    }
   ],
   "source": [
    "word=\"this is a uniue a characer check\"\n",
    "#words=word.split()\n",
    "unique=set(word)\n",
    "print(unique)\n",
    "print(len(unique))"
   ]
  },
  {
   "cell_type": "code",
   "execution_count": 1,
   "metadata": {},
   "outputs": [],
   "source": [
    "import json\n",
    "import os\n",
    "book ={\n",
    "    \"title\":\"Kafan\",\"price\":199,\"published\":2023\n",
    "}"
   ]
  },
  {
   "cell_type": "code",
   "execution_count": 13,
   "metadata": {},
   "outputs": [
    {
     "name": "stdout",
     "output_type": "stream",
     "text": [
      "24 is even\n"
     ]
    }
   ],
   "source": [
    "#num=input(\"Enter a num\")\n",
    "even_odd(24)\n",
    "def even_odd(num):\n",
    "    if num%2==0:\n",
    "        print (f\"{num} is even\")\n",
    "    else:\n",
    "        print (f\"{num} is odd\")"
   ]
  },
  {
   "cell_type": "code",
   "execution_count": 14,
   "metadata": {},
   "outputs": [],
   "source": [
    "def add(a,b):\n",
    "    sum=a+b\n",
    "    print (a+b)  "
   ]
  },
  {
   "cell_type": "code",
   "execution_count": 16,
   "metadata": {},
   "outputs": [
    {
     "name": "stdout",
     "output_type": "stream",
     "text": [
      "10\n",
      "None\n"
     ]
    }
   ],
   "source": [
    "result=add(9,1)\n",
    "print(result)"
   ]
  },
  {
   "cell_type": "code",
   "execution_count": 17,
   "metadata": {},
   "outputs": [
    {
     "name": "stdout",
     "output_type": "stream",
     "text": [
      "120\n"
     ]
    }
   ],
   "source": [
    "def fact(n):\n",
    "    if n==0:\n",
    "        return 1\n",
    "    else:\n",
    "        return n*fact(n-1)\n",
    "print (fact(5))\n"
   ]
  },
  {
   "cell_type": "code",
   "execution_count": 1,
   "metadata": {},
   "outputs": [],
   "source": [
    "class car:\n",
    "    def __init__(self,engine,door,price):\n",
    "        self.engine=engine\n",
    "        self.door=door\n",
    "        self.price=price\n",
    "    def drive(self):\n",
    "        print(f\"The person is driving a {self.engine} car\")\n"
   ]
  },
  {
   "cell_type": "code",
   "execution_count": 9,
   "metadata": {},
   "outputs": [
    {
     "name": "stdout",
     "output_type": "stream",
     "text": [
      "The person is driving a Petrol car\n"
     ]
    }
   ],
   "source": [
    "car1=car(\" Petrol\",4,400000)\n",
    "car1.drive()"
   ]
  },
  {
   "cell_type": "code",
   "execution_count": 16,
   "metadata": {},
   "outputs": [],
   "source": [
    "class tesla(car):\n",
    "    def __init__(self,engine,door,price,has_selfdrive):\n",
    "         ##super is used to inherit all the things from parent class\n",
    "         super().__init__(engine,door,price)\n",
    "         self.has_selfdrive=has_selfdrive\n",
    "    def selfdrive(self):\n",
    "         print(f\"Tesla supports self driving: {self.has_selfdrive}\")"
   ]
  },
  {
   "cell_type": "code",
   "execution_count": 19,
   "metadata": {},
   "outputs": [
    {
     "name": "stdout",
     "output_type": "stream",
     "text": [
      "Tesla supports self driving: True\n",
      "The person is driving a Electric car\n"
     ]
    }
   ],
   "source": [
    "tesla1=tesla(\" Electric\",4,600000,True)\n",
    "tesla1.selfdrive()\n",
    "tesla1.drive()"
   ]
  },
  {
   "cell_type": "code",
   "execution_count": 21,
   "metadata": {},
   "outputs": [],
   "source": [
    "#multiple inheritance\n",
    "class Animal:\n",
    "    def __init__(self,name):\n",
    "        self.name = name\n",
    "    def speak(self):\n",
    "        print(\"Sub class must implement this method\")\n",
    "class pet:\n",
    "    def __init__(self,owner):\n",
    "        self.owner = owner\n"
   ]
  },
  {
   "cell_type": "code",
   "execution_count": 25,
   "metadata": {},
   "outputs": [
    {
     "name": "stdout",
     "output_type": "stream",
     "text": [
      "Buddy say woof\n",
      "Owner: Saurab\n"
     ]
    }
   ],
   "source": [
    "class dog(Animal,pet):\n",
    "    def __init__(self, name,owner):\n",
    "        #super().__init__(name)# calling the constructor of the first parent class\n",
    "        Animal.__init__(self,name)\n",
    "        pet.__init__(self,owner)\n",
    "    def speak(self):\n",
    "        return f\"{self.name} say woof\"\n",
    "    \n",
    "\n",
    "dog1= dog(\"Buddy\",\"Saurab\")\n",
    "print(dog1.speak())\n",
    "print(f\"Owner: {dog1.owner}\")\n"
   ]
  },
  {
   "cell_type": "code",
   "execution_count": null,
   "metadata": {},
   "outputs": [],
   "source": []
  }
 ],
 "metadata": {
  "kernelspec": {
   "display_name": "venv",
   "language": "python",
   "name": "python3"
  },
  "language_info": {
   "codemirror_mode": {
    "name": "ipython",
    "version": 3
   },
   "file_extension": ".py",
   "mimetype": "text/x-python",
   "name": "python",
   "nbconvert_exporter": "python",
   "pygments_lexer": "ipython3",
   "version": "3.12.0"
  }
 },
 "nbformat": 4,
 "nbformat_minor": 2
}
